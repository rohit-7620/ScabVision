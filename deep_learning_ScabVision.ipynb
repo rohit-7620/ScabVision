{
 "cells": [
  {
   "cell_type": "code",
   "execution_count": 4,
   "id": "a7f8a40c-04ff-4ecd-acc7-d749936eac90",
   "metadata": {},
   "outputs": [
    {
     "data": {
      "text/html": [
       "<div>\n",
       "<style scoped>\n",
       "    .dataframe tbody tr th:only-of-type {\n",
       "        vertical-align: middle;\n",
       "    }\n",
       "\n",
       "    .dataframe tbody tr th {\n",
       "        vertical-align: top;\n",
       "    }\n",
       "\n",
       "    .dataframe thead th {\n",
       "        text-align: right;\n",
       "    }\n",
       "</style>\n",
       "<table border=\"1\" class=\"dataframe\">\n",
       "  <thead>\n",
       "    <tr style=\"text-align: right;\">\n",
       "      <th></th>\n",
       "      <th>image_path</th>\n",
       "      <th>label</th>\n",
       "    </tr>\n",
       "  </thead>\n",
       "  <tbody>\n",
       "    <tr>\n",
       "      <th>0</th>\n",
       "      <td>C:\\Users\\ROHIT\\Downloads\\Apple___Apple_scab\\00...</td>\n",
       "      <td>Apple_scab</td>\n",
       "    </tr>\n",
       "    <tr>\n",
       "      <th>1</th>\n",
       "      <td>C:\\Users\\ROHIT\\Downloads\\Apple___Apple_scab\\01...</td>\n",
       "      <td>Apple_scab</td>\n",
       "    </tr>\n",
       "    <tr>\n",
       "      <th>2</th>\n",
       "      <td>C:\\Users\\ROHIT\\Downloads\\Apple___Apple_scab\\01...</td>\n",
       "      <td>Apple_scab</td>\n",
       "    </tr>\n",
       "    <tr>\n",
       "      <th>3</th>\n",
       "      <td>C:\\Users\\ROHIT\\Downloads\\Apple___Apple_scab\\01...</td>\n",
       "      <td>Apple_scab</td>\n",
       "    </tr>\n",
       "    <tr>\n",
       "      <th>4</th>\n",
       "      <td>C:\\Users\\ROHIT\\Downloads\\Apple___Apple_scab\\01...</td>\n",
       "      <td>Apple_scab</td>\n",
       "    </tr>\n",
       "  </tbody>\n",
       "</table>\n",
       "</div>"
      ],
      "text/plain": [
       "                                          image_path       label\n",
       "0  C:\\Users\\ROHIT\\Downloads\\Apple___Apple_scab\\00...  Apple_scab\n",
       "1  C:\\Users\\ROHIT\\Downloads\\Apple___Apple_scab\\01...  Apple_scab\n",
       "2  C:\\Users\\ROHIT\\Downloads\\Apple___Apple_scab\\01...  Apple_scab\n",
       "3  C:\\Users\\ROHIT\\Downloads\\Apple___Apple_scab\\01...  Apple_scab\n",
       "4  C:\\Users\\ROHIT\\Downloads\\Apple___Apple_scab\\01...  Apple_scab"
      ]
     },
     "execution_count": 4,
     "metadata": {},
     "output_type": "execute_result"
    }
   ],
   "source": [
    "import numpy as np\n",
    "import pandas as pd\n",
    "import os\n",
    "\n",
    "# Set the correct local path for Apple_scab images\n",
    "category_path = r\"C:\\Users\\ROHIT\\Downloads\\Apple___Apple_scab\"\n",
    "\n",
    "image_paths = []\n",
    "labels = []\n",
    "\n",
    "# Collect image paths and labels\n",
    "for image_name in os.listdir(category_path):\n",
    "    image_path = os.path.join(category_path, image_name)\n",
    "    image_paths.append(image_path)\n",
    "    labels.append(\"Apple_scab\")\n",
    "\n",
    "# Create the DataFrame\n",
    "df = pd.DataFrame({\n",
    "    \"image_path\": image_paths,\n",
    "    \"label\": labels\n",
    "})\n",
    "\n",
    "df.head()\n"
   ]
  },
  {
   "cell_type": "code",
   "execution_count": 5,
   "id": "87929ee0-b9fe-409e-96a1-c27b7b93e999",
   "metadata": {},
   "outputs": [],
   "source": [
    "import os\n",
    "import numpy as np\n",
    "import pandas as pd\n",
    "import matplotlib.pyplot as plt\n",
    "import seaborn as sns\n",
    "from sklearn.model_selection import train_test_split\n",
    "from sklearn.metrics import classification_report, confusion_matrix\n",
    "\n",
    "import tensorflow as tf\n",
    "from tensorflow.keras import layers, models\n",
    "from tensorflow.keras.preprocessing.image import ImageDataGenerator\n"
   ]
  },
  {
   "cell_type": "code",
   "execution_count": 6,
   "id": "513e54f1-d8d2-4538-bd43-81d407cf88f3",
   "metadata": {},
   "outputs": [],
   "source": [
    "# Local path to Apple_scab images\n",
    "image_dir = r\"C:\\Users\\ROHIT\\Downloads\\Apple___Apple_scab\"\n",
    "\n",
    "image_paths = [os.path.join(image_dir, img) for img in os.listdir(image_dir)]\n",
    "labels = [\"Apple_scab\"] * len(image_paths)\n",
    "\n",
    "df = pd.DataFrame({\"image_path\": image_paths, \"label\": labels})\n"
   ]
  },
  {
   "cell_type": "code",
   "execution_count": 7,
   "id": "184d7ee3-4a5c-426a-9d7e-ea6e8acd1525",
   "metadata": {},
   "outputs": [
    {
     "name": "stdout",
     "output_type": "stream",
     "text": [
      "Found 1612 validated image filenames belonging to 1 classes.\n",
      "Found 404 validated image filenames belonging to 1 classes.\n"
     ]
    }
   ],
   "source": [
    "img_height, img_width = 128, 128\n",
    "batch_size = 32\n",
    "\n",
    "train_df, val_df = train_test_split(df, test_size=0.2, random_state=42)\n",
    "\n",
    "datagen = ImageDataGenerator(rescale=1./255)\n",
    "\n",
    "train_gen = datagen.flow_from_dataframe(\n",
    "    train_df, x_col='image_path', y_col='label',\n",
    "    target_size=(img_height, img_width), class_mode='categorical', batch_size=batch_size\n",
    ")\n",
    "\n",
    "val_gen = datagen.flow_from_dataframe(\n",
    "    val_df, x_col='image_path', y_col='label',\n",
    "    target_size=(img_height, img_width), class_mode='categorical', batch_size=batch_size\n",
    ")\n"
   ]
  },
  {
   "cell_type": "code",
   "execution_count": 8,
   "id": "b4869869-8c24-4c02-b287-03f2d74a5f34",
   "metadata": {},
   "outputs": [],
   "source": [
    "class ContinuousLayer(layers.Layer):\n",
    "    def __init__(self, units=64):\n",
    "        super(ContinuousLayer, self).__init__()\n",
    "        self.units = units\n",
    "\n",
    "    def build(self, input_shape):\n",
    "        self.kernel = self.add_weight(\"kernel\", shape=[int(input_shape[-1]), self.units])\n",
    "        self.bias = self.add_weight(\"bias\", shape=[self.units])\n",
    "\n",
    "    def call(self, inputs):\n",
    "        return tf.math.sin(tf.matmul(inputs, self.kernel) + self.bias)\n"
   ]
  },
  {
   "cell_type": "code",
   "execution_count": 11,
   "id": "3a587985-3958-4255-a7ad-5ca0bf2d51b6",
   "metadata": {},
   "outputs": [],
   "source": [
    "class ContinuousLayer(layers.Layer):\n",
    "    def __init__(self, units=64):\n",
    "        super(ContinuousLayer, self).__init__()\n",
    "        self.units = units\n",
    "\n",
    "    def build(self, input_shape):\n",
    "        self.kernel = self.add_weight(name=\"kernel\", shape=(int(input_shape[-1]), self.units))\n",
    "        self.bias = self.add_weight(name=\"bias\", shape=(self.units,))\n",
    "\n",
    "    def call(self, inputs):\n",
    "        return tf.math.sin(tf.matmul(inputs, self.kernel) + self.bias)\n"
   ]
  },
  {
   "cell_type": "code",
   "execution_count": 14,
   "id": "3bf0e862-1b64-4395-971e-f756d8ddf284",
   "metadata": {},
   "outputs": [
    {
     "name": "stdout",
     "output_type": "stream",
     "text": [
      "WARNING:tensorflow:From C:\\Users\\ROHIT\\AppData\\Local\\Programs\\Python\\Python312\\Lib\\site-packages\\keras\\src\\backend\\tensorflow\\core.py:222: The name tf.placeholder is deprecated. Please use tf.compat.v1.placeholder instead.\n",
      "\n"
     ]
    }
   ],
   "source": [
    "model = models.Sequential([\n",
    "    layers.Input(shape=(img_height, img_width, 3)),\n",
    "    layers.Conv2D(32, (3,3), activation='relu'),\n",
    "    layers.MaxPooling2D(2,2),\n",
    "    layers.Conv2D(64, (3,3), activation='relu'),\n",
    "    layers.MaxPooling2D(2,2),\n",
    "    layers.Flatten(),\n",
    "    ContinuousLayer(64),\n",
    "    layers.Dense(32, activation='relu'),\n",
    "    layers.Dense(1, activation='sigmoid')\n",
    "])\n"
   ]
  },
  {
   "cell_type": "code",
   "execution_count": 15,
   "id": "80ebc618-7725-48d9-8c06-59093948f4d3",
   "metadata": {},
   "outputs": [
    {
     "name": "stderr",
     "output_type": "stream",
     "text": [
      "C:\\Users\\ROHIT\\AppData\\Local\\Programs\\Python\\Python312\\Lib\\site-packages\\keras\\src\\trainers\\data_adapters\\py_dataset_adapter.py:121: UserWarning: Your `PyDataset` class should call `super().__init__(**kwargs)` in its constructor. `**kwargs` can include `workers`, `use_multiprocessing`, `max_queue_size`. Do not pass these arguments to `fit()`, as they will be ignored.\n",
      "  self._warn_if_super_not_called()\n"
     ]
    },
    {
     "name": "stdout",
     "output_type": "stream",
     "text": [
      "Epoch 1/10\n",
      "\u001b[1m51/51\u001b[0m \u001b[32m━━━━━━━━━━━━━━━━━━━━\u001b[0m\u001b[37m\u001b[0m \u001b[1m43s\u001b[0m 795ms/step - accuracy: 0.8408 - loss: 0.2197 - val_accuracy: 1.0000 - val_loss: 0.0011\n",
      "Epoch 2/10\n",
      "\u001b[1m51/51\u001b[0m \u001b[32m━━━━━━━━━━━━━━━━━━━━\u001b[0m\u001b[37m\u001b[0m \u001b[1m15s\u001b[0m 291ms/step - accuracy: 1.0000 - loss: 0.0010 - val_accuracy: 1.0000 - val_loss: 8.4187e-04\n",
      "Epoch 3/10\n",
      "\u001b[1m51/51\u001b[0m \u001b[32m━━━━━━━━━━━━━━━━━━━━\u001b[0m\u001b[37m\u001b[0m \u001b[1m15s\u001b[0m 301ms/step - accuracy: 1.0000 - loss: 9.4723e-04 - val_accuracy: 1.0000 - val_loss: 4.4266e-04\n",
      "Epoch 4/10\n",
      "\u001b[1m51/51\u001b[0m \u001b[32m━━━━━━━━━━━━━━━━━━━━\u001b[0m\u001b[37m\u001b[0m \u001b[1m15s\u001b[0m 291ms/step - accuracy: 1.0000 - loss: 4.3356e-04 - val_accuracy: 1.0000 - val_loss: 2.6057e-04\n",
      "Epoch 5/10\n",
      "\u001b[1m51/51\u001b[0m \u001b[32m━━━━━━━━━━━━━━━━━━━━\u001b[0m\u001b[37m\u001b[0m \u001b[1m14s\u001b[0m 262ms/step - accuracy: 1.0000 - loss: 3.0479e-04 - val_accuracy: 1.0000 - val_loss: 2.1471e-04\n",
      "Epoch 6/10\n",
      "\u001b[1m51/51\u001b[0m \u001b[32m━━━━━━━━━━━━━━━━━━━━\u001b[0m\u001b[37m\u001b[0m \u001b[1m14s\u001b[0m 267ms/step - accuracy: 1.0000 - loss: 2.4838e-04 - val_accuracy: 1.0000 - val_loss: 1.4765e-04\n",
      "Epoch 7/10\n",
      "\u001b[1m51/51\u001b[0m \u001b[32m━━━━━━━━━━━━━━━━━━━━\u001b[0m\u001b[37m\u001b[0m \u001b[1m13s\u001b[0m 262ms/step - accuracy: 1.0000 - loss: 1.8189e-04 - val_accuracy: 1.0000 - val_loss: 1.1477e-04\n",
      "Epoch 8/10\n",
      "\u001b[1m51/51\u001b[0m \u001b[32m━━━━━━━━━━━━━━━━━━━━\u001b[0m\u001b[37m\u001b[0m \u001b[1m13s\u001b[0m 262ms/step - accuracy: 1.0000 - loss: 1.1047e-04 - val_accuracy: 1.0000 - val_loss: 8.7837e-05\n",
      "Epoch 9/10\n",
      "\u001b[1m51/51\u001b[0m \u001b[32m━━━━━━━━━━━━━━━━━━━━\u001b[0m\u001b[37m\u001b[0m \u001b[1m13s\u001b[0m 260ms/step - accuracy: 1.0000 - loss: 9.0436e-05 - val_accuracy: 1.0000 - val_loss: 7.7361e-05\n",
      "Epoch 10/10\n",
      "\u001b[1m51/51\u001b[0m \u001b[32m━━━━━━━━━━━━━━━━━━━━\u001b[0m\u001b[37m\u001b[0m \u001b[1m14s\u001b[0m 266ms/step - accuracy: 1.0000 - loss: 7.8843e-05 - val_accuracy: 1.0000 - val_loss: 6.1395e-05\n"
     ]
    }
   ],
   "source": [
    "model.compile(optimizer='adam',\n",
    "              loss='binary_crossentropy',\n",
    "              metrics=['accuracy'])\n",
    "\n",
    "history = model.fit(train_gen, epochs=10, validation_data=val_gen)\n"
   ]
  },
  {
   "cell_type": "code",
   "execution_count": 16,
   "id": "15ce5007-5e43-4b01-9691-fdff2cbae243",
   "metadata": {},
   "outputs": [
    {
     "data": {
      "image/png": "[encoded data removed]",
      "text/plain": [
       "<Figure size 1200x500 with 2 Axes>"
      ]
     },
     "metadata": {},
     "output_type": "display_data"
    },
    {
     "name": "stdout",
     "output_type": "stream",
     "text": [
      "\u001b[1m13/13\u001b[0m \u001b[32m━━━━━━━━━━━━━━━━━━━━\u001b[0m\u001b[37m\u001b[0m \u001b[1m1s\u001b[0m 89ms/step \n"
     ]
    },
    {
     "data": {
      "image/png": "[encoded data removed]",
      "text/plain": [
       "<Figure size 640x480 with 2 Axes>"
      ]
     },
     "metadata": {},
     "output_type": "display_data"
    },
    {
     "name": "stdout",
     "output_type": "stream",
     "text": [
      "              precision    recall  f1-score   support\n",
      "\n",
      "           0       0.00      0.00      0.00     404.0\n",
      "           1       0.00      0.00      0.00       0.0\n",
      "\n",
      "    accuracy                           0.00     404.0\n",
      "   macro avg       0.00      0.00      0.00     404.0\n",
      "weighted avg       0.00      0.00      0.00     404.0\n",
      "\n"
     ]
    },
    {
     "name": "stderr",
     "output_type": "stream",
     "text": [
      "C:\\Users\\ROHIT\\AppData\\Local\\Programs\\Python\\Python312\\Lib\\site-packages\\sklearn\\metrics\\_classification.py:1531: UndefinedMetricWarning: Precision is ill-defined and being set to 0.0 in labels with no predicted samples. Use `zero_division` parameter to control this behavior.\n",
      "  _warn_prf(average, modifier, f\"{metric.capitalize()} is\", len(result))\n",
      "C:\\Users\\ROHIT\\AppData\\Local\\Programs\\Python\\Python312\\Lib\\site-packages\\sklearn\\metrics\\_classification.py:1531: UndefinedMetricWarning: Recall is ill-defined and being set to 0.0 in labels with no true samples. Use `zero_division` parameter to control this behavior.\n",
      "  _warn_prf(average, modifier, f\"{metric.capitalize()} is\", len(result))\n",
      "C:\\Users\\ROHIT\\AppData\\Local\\Programs\\Python\\Python312\\Lib\\site-packages\\sklearn\\metrics\\_classification.py:1531: UndefinedMetricWarning: Precision is ill-defined and being set to 0.0 in labels with no predicted samples. Use `zero_division` parameter to control this behavior.\n",
      "  _warn_prf(average, modifier, f\"{metric.capitalize()} is\", len(result))\n",
      "C:\\Users\\ROHIT\\AppData\\Local\\Programs\\Python\\Python312\\Lib\\site-packages\\sklearn\\metrics\\_classification.py:1531: UndefinedMetricWarning: Recall is ill-defined and being set to 0.0 in labels with no true samples. Use `zero_division` parameter to control this behavior.\n",
      "  _warn_prf(average, modifier, f\"{metric.capitalize()} is\", len(result))\n",
      "C:\\Users\\ROHIT\\AppData\\Local\\Programs\\Python\\Python312\\Lib\\site-packages\\sklearn\\metrics\\_classification.py:1531: UndefinedMetricWarning: Precision is ill-defined and being set to 0.0 in labels with no predicted samples. Use `zero_division` parameter to control this behavior.\n",
      "  _warn_prf(average, modifier, f\"{metric.capitalize()} is\", len(result))\n",
      "C:\\Users\\ROHIT\\AppData\\Local\\Programs\\Python\\Python312\\Lib\\site-packages\\sklearn\\metrics\\_classification.py:1531: UndefinedMetricWarning: Recall is ill-defined and being set to 0.0 in labels with no true samples. Use `zero_division` parameter to control this behavior.\n",
      "  _warn_prf(average, modifier, f\"{metric.capitalize()} is\", len(result))\n"
     ]
    }
   ],
   "source": [
    "# Accuracy & Loss Curves\n",
    "plt.figure(figsize=(12, 5))\n",
    "plt.subplot(1, 2, 1)\n",
    "plt.plot(history.history['accuracy'], label='Train')\n",
    "plt.plot(history.history['val_accuracy'], label='Val')\n",
    "plt.title('Accuracy')\n",
    "plt.legend()\n",
    "\n",
    "plt.subplot(1, 2, 2)\n",
    "plt.plot(history.history['loss'], label='Train')\n",
    "plt.plot(history.history['val_loss'], label='Val')\n",
    "plt.title('Loss')\n",
    "plt.legend()\n",
    "plt.show()\n",
    "\n",
    "# Confusion Matrix\n",
    "val_preds = model.predict(val_gen)\n",
    "val_labels = val_gen.classes\n",
    "cm = confusion_matrix(val_labels, (val_preds > 0.5).astype(int))\n",
    "sns.heatmap(cm, annot=True, fmt=\"d\", cmap=\"Blues\")\n",
    "plt.title(\"Confusion Matrix\")\n",
    "plt.show()\n",
    "\n",
    "# Classification Report\n",
    "print(classification_report(val_labels, (val_preds > 0.5).astype(int)))\n"
   ]
  },
  {
   "cell_type": "code",
   "execution_count": null,
   "id": "03a524a1-513f-4f47-acd9-fa355f158228",
   "metadata": {},
   "outputs": [],
   "source": []
  }
 ],
 "metadata": {
  "kernelspec": {
   "display_name": "Python 3 (ipykernel)",
   "language": "python",
   "name": "python3"
  },
  "language_info": {
   "codemirror_mode": {
    "name": "ipython",
    "version": 3
   },
   "file_extension": ".py",
   "mimetype": "text/x-python",
   "name": "python",
   "nbconvert_exporter": "python",
   "pygments_lexer": "ipython3",
   "version": "3.12.8"
  }
 },
 "nbformat": 4,
 "nbformat_minor": 5
}
